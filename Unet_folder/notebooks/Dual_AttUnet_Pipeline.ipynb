{
  "cells": [
    {
      "cell_type": "markdown",
      "source": [
        "#Pipeline to train a Unet model with attention Gates.\n",
        "Here we'll be using a Unet model with 5 blocks and pair of images (post and pre) as inputs."
      ],
      "metadata": {
        "id": "hsx-JqQ78T-r"
      }
    },
    {
      "cell_type": "markdown",
      "source": [
        "##Useful imports"
      ],
      "metadata": {
        "id": "XEraookQ8wWP"
      }
    },
    {
      "cell_type": "code",
      "execution_count": null,
      "metadata": {
        "id": "GwRwL6MMEuef"
      },
      "outputs": [],
      "source": [
        "import torch\n",
        "import torchvision.transforms as transforms\n",
        "import torch.nn.functional as F\n",
        "#import cv2"
      ]
    },
    {
      "cell_type": "code",
      "execution_count": null,
      "metadata": {
        "id": "ZxK0DQiUM2ZZ"
      },
      "outputs": [],
      "source": [
        "import matplotlib.pyplot as plt\n",
        "import os\n",
        "from PIL import Image\n",
        "import numpy as np\n",
        "import pandas as pd\n",
        "import matplotlib.pyplot as plt\n",
        "import matplotlib.image as mpimg\n",
        "import torch\n",
        "from torchvision import datasets, transforms\n",
        "from torch.utils.data import DataLoader,Dataset\n",
        "from torchvision.transforms import ToTensor\n",
        "import torch.nn as nn\n",
        "from tqdm.contrib.telegram import tqdm, trange\n",
        "from torchvision.io import read_image\n",
        "import torchvision.transforms.functional as transform\n",
        "from torchvision.transforms.transforms import Resize\n",
        "import torch.nn.functional as F\n",
        "import torch.optim as optim\n",
        "from torch.utils.data import random_split\n",
        "import random\n",
        "from torch.optim.lr_scheduler import StepLR, MultiStepLR\n",
        "from torch.autograd import Variable\n",
        "import datetime, os\n",
        "import torchvision.transforms.functional as TF\n",
        "import torchvision\n"
      ]
    },
    {
      "cell_type": "code",
      "execution_count": null,
      "metadata": {
        "id": "efgKflsJcRf_"
      },
      "outputs": [],
      "source": [
        "pip install -q -U segmentation-models-pytorch albumentations"
      ]
    },
    {
      "cell_type": "markdown",
      "source": [
        "##Gdrive import + PATHS"
      ],
      "metadata": {
        "id": "6_-nM-NP9H02"
      }
    },
    {
      "cell_type": "code",
      "execution_count": null,
      "metadata": {
        "colab": {
          "base_uri": "https://localhost:8080/"
        },
        "id": "Hm_zAOoMMaaL",
        "outputId": "78714b86-794a-41f6-a1e1-13b6cc870210"
      },
      "outputs": [
        {
          "name": "stdout",
          "output_type": "stream",
          "text": [
            "Mounted at /content/drive\n"
          ]
        }
      ],
      "source": [
        "from google.colab import drive\n",
        "drive.mount('/content/drive')"
      ]
    },
    {
      "cell_type": "code",
      "execution_count": null,
      "metadata": {
        "id": "TBi-o1trMb-w"
      },
      "outputs": [],
      "source": [
        "IMG_PATH = '/content/drive/My Drive/natural_catastroph_folder/training_dataset/images'\n",
        "MASK_PATH = '/content/drive/My Drive/natural_catastroph_folder/training_dataset/targets'\n",
        "CSV_PATH = '/content/drive/My Drive/natural_catastroph_folder/Yanis_folder/notebooks/hurricane_duo.csv'"
      ]
    },
    {
      "cell_type": "code",
      "source": [
        "TENSORBOARD_LOG_PATH = '/content/drive/My Drive/natural_catastroph_folder/log_files/Unet_logs/'\n",
        "MODEL_TO_SAVE_PATH = \"/content/drive/My Drive/natural_catastroph_folder/Yanis_folder/saved_models/\""
      ],
      "metadata": {
        "id": "V4DebaAVBCo7"
      },
      "execution_count": null,
      "outputs": []
    },
    {
      "cell_type": "markdown",
      "source": [
        "##Useful Function"
      ],
      "metadata": {
        "id": "b2xNL_39AnfT"
      }
    },
    {
      "cell_type": "code",
      "execution_count": null,
      "metadata": {
        "id": "jMKpXqRANYGw"
      },
      "outputs": [],
      "source": [
        "#Class for avg meter\n",
        "class AverageMeter:\n",
        "    def __init__(self, name, fmt=':f'):\n",
        "        self.name = name\n",
        "        self.fmt = fmt\n",
        "        self.reset()\n",
        "\n",
        "    def reset(self):\n",
        "        self.val = 0\n",
        "        self.avg = 0\n",
        "        self.sum = 0\n",
        "        self.count = 0\n",
        "\n",
        "    def update(self, val, n=1):\n",
        "        self.val = val\n",
        "        self.sum += val * n\n",
        "        self.count += n\n",
        "        self.avg = self.sum / self.count\n",
        "\n",
        "    def __str__(self):\n",
        "        fmtstr = '{name} {val' + self.fmt + '} ({avg' + self.fmt + '})'\n",
        "        return fmtstr.format(**self.__dict__)"
      ]
    },
    {
      "cell_type": "markdown",
      "source": [
        "##Our Unet model"
      ],
      "metadata": {
        "id": "dR2vEXbP82oQ"
      }
    },
    {
      "cell_type": "code",
      "execution_count": null,
      "metadata": {
        "id": "yDUnQ2ahLjAp"
      },
      "outputs": [],
      "source": [
        "import torch\n",
        "import torch.nn as nn\n",
        "import torchvision.transforms.functional as TF\n",
        "\n",
        "class conv_block(nn.Module):\n",
        "    def __init__(self,ch_in,ch_out):\n",
        "        super(conv_block,self).__init__()\n",
        "        self.conv = nn.Sequential(\n",
        "            nn.Conv2d(ch_in, ch_out, kernel_size=3,stride=1,padding=1,bias=True),\n",
        "            nn.BatchNorm2d(ch_out),\n",
        "            nn.ReLU(inplace=True),\n",
        "            nn.Conv2d(ch_out, ch_out, kernel_size=3,stride=1,padding=1,bias=True),\n",
        "            nn.BatchNorm2d(ch_out),\n",
        "            nn.ReLU(inplace=True)\n",
        "        )\n",
        "\n",
        "\n",
        "    def forward(self,x):\n",
        "        x = self.conv(x)\n",
        "        return x\n",
        "\n",
        "class up_conv(nn.Module):\n",
        "    def __init__(self,ch_in,ch_out):\n",
        "        super(up_conv,self).__init__()\n",
        "        self.up = nn.Sequential(\n",
        "            nn.Upsample(scale_factor=2),\n",
        "            nn.Conv2d(ch_in,ch_out,kernel_size=3,stride=1,padding=1,bias=True),\n",
        "\t\t    nn.BatchNorm2d(ch_out),\n",
        "\t\t\tnn.ReLU(inplace=True)\n",
        "        )\n",
        "\n",
        "    def forward(self,x):\n",
        "        x = self.up(x)\n",
        "        return x\n",
        "\n",
        "class Attention_block(nn.Module):\n",
        "    def __init__(self,F_g,F_l,F_int):\n",
        "        super(Attention_block,self).__init__()\n",
        "        self.W_g = nn.Sequential(\n",
        "            nn.Conv2d(F_g, F_int, kernel_size=1,stride=1,padding=0,bias=True),\n",
        "            nn.BatchNorm2d(F_int)\n",
        "            )\n",
        "        \n",
        "        self.W_x = nn.Sequential(\n",
        "            nn.Conv2d(F_l, F_int, kernel_size=1,stride=1,padding=0,bias=True),\n",
        "            nn.BatchNorm2d(F_int)\n",
        "        )\n",
        "\n",
        "        self.psi = nn.Sequential(\n",
        "            nn.Conv2d(F_int, 1, kernel_size=1,stride=1,padding=0,bias=True),\n",
        "            nn.BatchNorm2d(1),\n",
        "            nn.Sigmoid()\n",
        "        )\n",
        "        \n",
        "        self.relu = nn.ReLU(inplace=True)\n",
        "        \n",
        "    def forward(self,g,x):\n",
        "        g1 = self.W_g(g)\n",
        "        x1 = self.W_x(x)\n",
        "        psi = self.relu(g1+x1)\n",
        "        psi = self.psi(psi)\n",
        "\n",
        "        return x*psi\n",
        "\n",
        "    def psi_mask(self, g, x):\n",
        "        g1 = self.W_g(g)\n",
        "        x1 = self.W_x(x)\n",
        "        psi = self.relu(g1+x1)\n",
        "        psi = self.psi(psi)\n",
        "\n",
        "        return psi\n",
        "\n",
        "\n",
        "class AttU_Net(nn.Module):\n",
        "    def __init__(self,img_ch=3,output_ch=1):\n",
        "        super(AttU_Net,self).__init__()\n",
        "        \n",
        "        self.Maxpool = nn.MaxPool2d(kernel_size=2,stride=2)\n",
        "\n",
        "        self.Conv1 = conv_block(ch_in=img_ch,ch_out=64)\n",
        "        self.Conv2 = conv_block(ch_in=64,ch_out=128)\n",
        "        self.Conv3 = conv_block(ch_in=128,ch_out=256)\n",
        "        self.Conv4 = conv_block(ch_in=256,ch_out=512)\n",
        "        self.Conv5 = conv_block(ch_in=512,ch_out=1024)\n",
        "\n",
        "        self.Up5 = up_conv(ch_in=1024,ch_out=512)\n",
        "        self.Att5 = Attention_block(F_g=512,F_l=512,F_int=256)\n",
        "        self.Up_conv5 = conv_block(ch_in=1024, ch_out=512)\n",
        "\n",
        "        self.Up4 = up_conv(ch_in=512,ch_out=256)\n",
        "        self.Att4 = Attention_block(F_g=256,F_l=256,F_int=128)\n",
        "        self.Up_conv4 = conv_block(ch_in=512, ch_out=256)\n",
        "        \n",
        "        self.Up3 = up_conv(ch_in=256,ch_out=128)\n",
        "        self.Att3 = Attention_block(F_g=128,F_l=128,F_int=64)\n",
        "        self.Up_conv3 = conv_block(ch_in=256, ch_out=128)\n",
        "        \n",
        "        self.Up2 = up_conv(ch_in=128,ch_out=64)\n",
        "        self.Att2 = Attention_block(F_g=64,F_l=64,F_int=32)\n",
        "        self.Up_conv2 = conv_block(ch_in=128, ch_out=64)\n",
        "\n",
        "        self.Conv_1x1 = nn.Conv2d(64,output_ch,kernel_size=1,stride=1,padding=0)\n",
        "\n",
        "\n",
        "    def forward(self,x):\n",
        "        # encoding path\n",
        "        x1 = self.Conv1(x)\n",
        "\n",
        "        x2 = self.Maxpool(x1)\n",
        "        x2 = self.Conv2(x2)\n",
        "        \n",
        "        x3 = self.Maxpool(x2)\n",
        "        x3 = self.Conv3(x3)\n",
        "\n",
        "        x4 = self.Maxpool(x3)\n",
        "        x4 = self.Conv4(x4)\n",
        "\n",
        "        x5 = self.Maxpool(x4)\n",
        "        x5 = self.Conv5(x5)\n",
        "\n",
        "        # decoding + concat path\n",
        "        d5 = self.Up5(x5)\n",
        "        x4 = self.Att5(g=d5,x=x4)\n",
        "        d5 = torch.cat((x4,d5),dim=1)        \n",
        "        d5 = self.Up_conv5(d5)\n",
        "        \n",
        "        d4 = self.Up4(d5)\n",
        "        x3 = self.Att4(g=d4,x=x3)\n",
        "        d4 = torch.cat((x3,d4),dim=1)\n",
        "        d4 = self.Up_conv4(d4)\n",
        "\n",
        "        d3 = self.Up3(d4)\n",
        "        x2 = self.Att3(g=d3,x=x2)\n",
        "        d3 = torch.cat((x2,d3),dim=1)\n",
        "        d3 = self.Up_conv3(d3)\n",
        "\n",
        "        d2 = self.Up2(d3)\n",
        "        x1 = self.Att2(g=d2,x=x1)\n",
        "        d2 = torch.cat((x1,d2),dim=1)\n",
        "        d2 = self.Up_conv2(d2)\n",
        "\n",
        "        d1 = self.Conv_1x1(d2)\n",
        "\n",
        "        return d1\n",
        "\n",
        "    def first_attentionGate_mask(self, x):\n",
        "      # encoding path\n",
        "        x1 = self.Conv1(x)\n",
        "\n",
        "        x2 = self.Maxpool(x1)\n",
        "        x2 = self.Conv2(x2)\n",
        "        \n",
        "        x3 = self.Maxpool(x2)\n",
        "        x3 = self.Conv3(x3)\n",
        "\n",
        "        x4 = self.Maxpool(x3)\n",
        "        x4 = self.Conv4(x4)\n",
        "\n",
        "        x5 = self.Maxpool(x4)\n",
        "        x5 = self.Conv5(x5)\n",
        "\n",
        "        # decoding + concat path\n",
        "        d5 = self.Up5(x5)\n",
        "        x4 = self.Att5(g=d5,x=x4)\n",
        "        d5 = torch.cat((x4,d5),dim=1)        \n",
        "        d5 = self.Up_conv5(d5)\n",
        "        \n",
        "        d4 = self.Up4(d5)\n",
        "        x3 = self.Att4(g=d4,x=x3)\n",
        "        d4 = torch.cat((x3,d4),dim=1)\n",
        "        d4 = self.Up_conv4(d4)\n",
        "\n",
        "        d3 = self.Up3(d4)\n",
        "        x2 = self.Att3(g=d3,x=x2)\n",
        "        d3 = torch.cat((x2,d3),dim=1)\n",
        "        d3 = self.Up_conv3(d3)\n",
        "\n",
        "        d2 = self.Up2(d3)\n",
        "        psi = self.Att2.psi_mask(g=d2,x=x1)\n",
        "\n",
        "        return psi"
      ]
    },
    {
      "cell_type": "code",
      "execution_count": null,
      "metadata": {
        "colab": {
          "base_uri": "https://localhost:8080/"
        },
        "id": "CPAazOdqM-Hi",
        "outputId": "07b4e782-ddaa-46ba-91c6-ec999e04eea2"
      },
      "outputs": [
        {
          "name": "stdout",
          "output_type": "stream",
          "text": [
            "Using device: cuda\n"
          ]
        }
      ],
      "source": [
        "device = torch.device('cuda' if torch.cuda.is_available() else 'cpu')\n",
        "print('Using device:', device)"
      ]
    },
    {
      "cell_type": "code",
      "execution_count": null,
      "metadata": {
        "colab": {
          "base_uri": "https://localhost:8080/"
        },
        "id": "ktZKYgKwLoiD",
        "outputId": "cb34c33c-da90-4190-b80a-ff6531d4a813"
      },
      "outputs": [
        {
          "data": {
            "text/plain": [
              "<All keys matched successfully>"
            ]
          },
          "execution_count": 32,
          "metadata": {},
          "output_type": "execute_result"
        }
      ],
      "source": [
        "\"\"\"HERE ONLY 3 CHANNELS NOT 5 BECAUSE WE MERGED SOME CLASSES\"\"\"\n",
        "model = AttU_Net(img_ch=6, output_ch=3).to(device)\n",
        "\n",
        "\n",
        "name_save_model = \"duo-AttUnet_512px_3classes\"\n",
        "path_model = F\"/content/drive/My Drive/natural_catastroph_folder/Yanis_folder/saved_models/{name_save_model}\"\n",
        "model.load_state_dict(torch.load(path_model))\n"
      ]
    },
    {
      "cell_type": "markdown",
      "source": [
        "##Datasets + Dataloaders"
      ],
      "metadata": {
        "id": "NoTw-wto-Ii5"
      }
    },
    {
      "cell_type": "code",
      "execution_count": null,
      "metadata": {
        "id": "x-fZQX9acLWF"
      },
      "outputs": [],
      "source": [
        "import segmentation_models_pytorch as smp"
      ]
    },
    {
      "cell_type": "code",
      "execution_count": null,
      "metadata": {
        "id": "-Qx6dTZCMhJS"
      },
      "outputs": [],
      "source": [
        "class ImageDatasetDuoCSV(Dataset):\n",
        "  def __init__(self,img_folder, mask_folder,csv_path,transform=None, transform_mask=None, std_mean=None):\n",
        "    self.transform=transform\n",
        "    self.transform_mask=transform_mask\n",
        "    self.std_mean=std_mean\n",
        "\n",
        "    self.img_folder=img_folder\n",
        "    self.mask_folder=mask_folder\n",
        "\n",
        "    self.csv_file = pd.read_csv(csv_path)\n",
        "  \n",
        "#The __len__ function returns the number of samples in our dataset.\n",
        "  def __len__(self):\n",
        "    return len(self.csv_file)\n",
        "\n",
        "  def __getitem__(self,index):\n",
        "    img_pre_name = self.csv_file['img_pre'].iloc[index]\n",
        "    mask_pre_name = self.csv_file['mask_pre'].iloc[index]\n",
        "    img_post_name = self.csv_file['img_post'].iloc[index]\n",
        "    mask_post_name = self.csv_file['mask_post'].iloc[index]\n",
        "\n",
        "    img_pre = read_image(self.img_folder+'/'+img_pre_name).type(torch.FloatTensor)\n",
        "    img_post = read_image(self.img_folder+'/'+img_post_name).type(torch.FloatTensor)\n",
        "\n",
        "    #mask_pre = read_image(self.mask_folder+'/'+mask_pre_name).type(torch.LongTensor)\n",
        "    mask_post = read_image(self.mask_folder+'/'+mask_post_name).type(torch.LongTensor)\n",
        "\n",
        "    \"\"\"\n",
        "    IF WE WANT TO HAVE ONLY 3 CLASSES --> Background(0), No-damage(1) and Damage(2)\n",
        "    DONT FORGET TO CHANGE THE NUMBER OF CHANNELS IN THE MODEL\n",
        "    \"\"\"\n",
        "\n",
        "    mask_post[mask_post==2] = 1\n",
        "    mask_post[mask_post==3] = 2\n",
        "    mask_post[mask_post==4] = 2\n",
        "\n",
        "    #MANUAL TRANSFORMS:\n",
        "    if self.std_mean != None:\n",
        "      normalize = transforms.Normalize(mean=std_mean[1], std=std_mean[0])\n",
        "    else: \n",
        "      normalize = transforms.Normalize(mean=[0.485, 0.456, 0.406], std=[0.229, 0.224, 0.225])\n",
        "\n",
        "    img_pre = normalize(img_pre)\n",
        "    img_post = normalize(img_post)\n",
        "\n",
        "    resize = transforms.Resize(size=(512, 512))\n",
        "\n",
        "    img_pre = resize(img_pre)\n",
        "    img_post = resize(img_post)\n",
        "\n",
        "    #mask_pre = resize(mask_pre)\n",
        "    mask_post = resize(mask_post)\n",
        "\n",
        "    image = torch.concat((img_pre, img_post), 0)\n",
        "    #mask = torch.concat((mask_pre, mask_post), 0)\n",
        "    mask = mask_post\n",
        "\n",
        "    return image, mask\n"
      ]
    },
    {
      "cell_type": "code",
      "execution_count": null,
      "metadata": {
        "id": "yMJM77zZMp23"
      },
      "outputs": [],
      "source": [
        "TRAIN_TRANSFORMS = transforms.Compose([\n",
        "    transforms.Resize((128,128)),\n",
        "    transforms.ToTensor(),\n",
        "    transforms.RandomApply([\n",
        "        transforms.ColorJitter(0.4, 0.4, 0.4, 0.1)\n",
        "    ], p=0.3),\n",
        "    transforms.Normalize(mean=[0.485, 0.456, 0.406],\n",
        "        std=[0.229, 0.224, 0.225],)\n",
        "])\n",
        "\n",
        "TRAIN_MASK_TRANSFORMS = transforms.Compose([\n",
        "    transforms.Resize((128,128)),\n",
        "    transforms.ToTensor()\n",
        "])"
      ]
    },
    {
      "cell_type": "code",
      "execution_count": null,
      "metadata": {
        "id": "d-JoSwAaMs7Z"
      },
      "outputs": [],
      "source": [
        "def split_dataset(dataset, ratio):\n",
        "    length1 = int(len(dataset) * ratio)\n",
        "    length2 = len(dataset) - length1\n",
        "    lengths = [length1, length2]\n",
        "    return random_split(dataset, lengths)"
      ]
    },
    {
      "cell_type": "code",
      "execution_count": null,
      "metadata": {
        "colab": {
          "base_uri": "https://localhost:8080/"
        },
        "id": "4ctVp8fRMvjv",
        "outputId": "53ec84eb-98e1-44cc-b558-a485344a4771"
      },
      "outputs": [
        {
          "name": "stdout",
          "output_type": "stream",
          "text": [
            "Length of train dataset: 853\n",
            "Length of valid dataset: 366\n"
          ]
        }
      ],
      "source": [
        "dataset = ImageDatasetDuoCSV(IMG_PATH, MASK_PATH, CSV_PATH)\n",
        "train_dataset, valid_dataset = split_dataset(dataset, 0.7)\n",
        "\n",
        "\n",
        "print(f\"Length of train dataset: {len(train_dataset):,}\")\n",
        "print(f\"Length of valid dataset: {len(valid_dataset):,}\")"
      ]
    },
    {
      "cell_type": "code",
      "execution_count": null,
      "metadata": {
        "id": "64aBcmkmMyvm"
      },
      "outputs": [],
      "source": [
        "BATCH_SIZE = 4\n",
        "\n",
        "\n",
        "train_dataloader = DataLoader(train_dataset, batch_size=BATCH_SIZE, shuffle=True)\n",
        "valid_dataloader = DataLoader(valid_dataset, batch_size=BATCH_SIZE, shuffle=True)"
      ]
    },
    {
      "cell_type": "markdown",
      "metadata": {
        "id": "5Q5TDZtAzlJK"
      },
      "source": [
        "## Generate Weights for our loss"
      ]
    },
    {
      "cell_type": "code",
      "execution_count": null,
      "metadata": {
        "id": "00DE1faPzAro"
      },
      "outputs": [],
      "source": [
        "mask_to_weight_list = []\n",
        "#image_to_weight_list = []\n",
        "counter = 0\n",
        "\n",
        "for image, mask_to_weight in train_dataloader:\n",
        "  #image_to_weight_list.append(image)\n",
        "\n",
        "  if counter %10 ==0:\n",
        "    mask_to_weight_list.append(mask_to_weight)\n",
        "  counter += 1\n",
        "\n",
        "\n",
        "counter = 0\n",
        "\n",
        "for image, mask_to_weight in valid_dataloader:\n",
        "  mask_to_weight_list.append(mask_to_weight)\n",
        "  #image_to_weight_list.append(image)\n",
        "  if counter %10 ==0:\n",
        "    mask_to_weight_list.append(mask_to_weight)\n",
        "  counter += 1\n",
        "\n",
        "\n",
        "mask_to_weight_list = torch.cat(mask_to_weight_list, dim=0)\n",
        "#image_to_weight_list = torch.cat(image_to_weight_list, dim=0)"
      ]
    },
    {
      "cell_type": "code",
      "execution_count": null,
      "metadata": {
        "id": "gAdAlFnlFrT-"
      },
      "outputs": [],
      "source": [
        "#### TEST STD MEAN"
      ]
    },
    {
      "cell_type": "code",
      "execution_count": null,
      "metadata": {
        "id": "ek-ZFuqVFD-A"
      },
      "outputs": [],
      "source": [
        "#std_mean = torch.std_mean(image_to_weight_list, unbiased=False)"
      ]
    },
    {
      "cell_type": "code",
      "execution_count": null,
      "metadata": {
        "id": "NbbP-WHyFvGG"
      },
      "outputs": [],
      "source": [
        "#dataset = ImageDatasetCSV(IMG_PATH, MASK_PATH, CSV_PATH, std_mean=std_mean)\n",
        "\n",
        "#train_dataset, valid_dataset = split_dataset(dataset, 0.7)\n",
        "#train_dataloader = DataLoader(train_dataset, batch_size=BATCH_SIZE, shuffle=True)\n",
        "#valid_dataloader = DataLoader(valid_dataset, batch_size=BATCH_SIZE, shuffle=True)"
      ]
    },
    {
      "cell_type": "code",
      "execution_count": null,
      "metadata": {
        "id": "u2Ag1Vp8Ftly"
      },
      "outputs": [],
      "source": [
        "#### TEST STD MEAN end"
      ]
    },
    {
      "cell_type": "code",
      "execution_count": null,
      "metadata": {
        "colab": {
          "base_uri": "https://localhost:8080/"
        },
        "id": "jf584K2RzEOW",
        "outputId": "2f03e12b-edfe-48d8-e76b-d98e098fa6f5"
      },
      "outputs": [
        {
          "data": {
            "text/plain": [
              "array([0, 1, 2])"
            ]
          },
          "execution_count": 18,
          "metadata": {},
          "output_type": "execute_result"
        }
      ],
      "source": [
        "np.unique(mask_to_weight_list)"
      ]
    },
    {
      "cell_type": "code",
      "execution_count": null,
      "metadata": {
        "colab": {
          "base_uri": "https://localhost:8080/"
        },
        "id": "mIvPkQL_xpPy",
        "outputId": "b6b8dcc9-e641-4883-ec54-f54704ba95b4"
      },
      "outputs": [
        {
          "name": "stdout",
          "output_type": "stream",
          "text": [
            "tensor([ 0.3554,  6.8005, 25.4723])\n"
          ]
        }
      ],
      "source": [
        "from sklearn.utils.class_weight import compute_class_weight\n",
        "\n",
        "class_weights=compute_class_weight(class_weight='balanced',classes=np.unique(mask_to_weight_list),y=mask_to_weight_list.flatten().cpu().numpy())\n",
        "class_weights=torch.tensor(class_weights,dtype=torch.float)\n",
        "\n",
        "print(class_weights)"
      ]
    },
    {
      "cell_type": "code",
      "execution_count": null,
      "metadata": {
        "id": "gN5ZBfNwJK8g"
      },
      "outputs": [],
      "source": [
        "#We get better results by using these following weights\n",
        "#Indeed since the label=2 is very uncommon we compute a weight of 25, which completely distort our loss\n",
        "class_weights = torch.Tensor([0.3793, 3, 3])"
      ]
    },
    {
      "cell_type": "markdown",
      "source": [
        "##Criterion + Optimizer + Scheduler"
      ],
      "metadata": {
        "id": "qa9X3e-e-1uc"
      }
    },
    {
      "cell_type": "code",
      "execution_count": null,
      "metadata": {
        "id": "6bDNRjH0M_ie"
      },
      "outputs": [],
      "source": [
        "#criterion = nn.CrossEntropyLoss().to(device)\n",
        "criterion = nn.CrossEntropyLoss(weight=class_weights,reduction='mean').to(device)\n",
        "#criterion = smp.utils.losses.DiceLoss()\n",
        "\n",
        "LR = 1e-4\n",
        "\n",
        "optimizer = optim.Adam(model.parameters(), lr=LR)"
      ]
    },
    {
      "cell_type": "code",
      "execution_count": null,
      "metadata": {
        "id": "MP9GZvFKNDb4"
      },
      "outputs": [],
      "source": [
        "LR_STEPS = [20, 40, 60, 100]\n",
        "GAMMA = 0.1\n",
        "scheduler = MultiStepLR(optimizer, milestones=LR_STEPS, gamma=GAMMA)\n",
        "EPOCHS=100"
      ]
    },
    {
      "cell_type": "markdown",
      "metadata": {
        "id": "IOYCHLigJkZW"
      },
      "source": [
        "##TensorBoard\n"
      ]
    },
    {
      "cell_type": "code",
      "execution_count": null,
      "metadata": {
        "id": "Q3nPHiQuJmbD"
      },
      "outputs": [],
      "source": [
        "from torch.utils.tensorboard import SummaryWriter\n",
        "%load_ext tensorboard\n",
        "\n"
      ]
    },
    {
      "cell_type": "code",
      "execution_count": null,
      "metadata": {
        "id": "6_ZRYNdve4U8"
      },
      "outputs": [],
      "source": [
        "current_time = \"duo-Attunet-1024px-3c-\" + str(datetime.datetime.now().timestamp()) \n",
        "log_dir = TENSORBOARD_LOG_PATH + current_time\n",
        "summary_writer = SummaryWriter(log_dir=log_dir)"
      ]
    },
    {
      "cell_type": "code",
      "execution_count": null,
      "metadata": {
        "id": "sewzeLZNJ-cy"
      },
      "outputs": [],
      "source": [
        "#Open tensorboard\n",
        "%tensorboard --logdir TENSORBOARD_LOG_PATH"
      ]
    },
    {
      "cell_type": "code",
      "source": [
        ""
      ],
      "metadata": {
        "id": "S4zJ0V8xAPvn"
      },
      "execution_count": null,
      "outputs": []
    },
    {
      "cell_type": "markdown",
      "source": [
        "##Training loop"
      ],
      "metadata": {
        "id": "2W8LIJ-i-7__"
      }
    },
    {
      "cell_type": "code",
      "execution_count": null,
      "metadata": {
        "id": "kchJiQZonHM9"
      },
      "outputs": [],
      "source": [
        "#Here we need a TOKEN + CHAT_ID because we're using a special tqdm\n",
        "#Indeed this tqdm allows us to monitor our training directly on our phone thanks to a telegram bot\n",
        "TOKEN = '5170567570:AAGQ5rRaWRzXTFd4f-nDUpUtBC1COqr3WOY'\n",
        "CHAT_ID = '2043389793'"
      ]
    },
    {
      "cell_type": "code",
      "execution_count": null,
      "metadata": {
        "id": "7DrvH-wHNGxQ"
      },
      "outputs": [],
      "source": [
        "best_loss = 1e+10\n",
        "\n",
        "loss_training_list = []\n",
        "loss_validation_list = []\n",
        "\n",
        "acc_training_list = []\n",
        "acc_validation_list = []\n",
        "\n",
        "iou_metric = smp.utils.metrics.IoU(threshold=0.5)\n",
        "\n",
        "\n",
        "epoch_bar = tqdm(range(EPOCHS), total=EPOCHS, desc=\"Epochs\", position=0, leave=True, token=TOKEN, chat_id=CHAT_ID)\n",
        "for epoch in epoch_bar:  # loop over the dataset multiple times\n",
        "    # Train the model\n",
        "    model.train()\n",
        "    losses = AverageMeter('Loss', ':.4e')\n",
        "    top1 = AverageMeter('Acc@1', ':6.2f')\n",
        "    top1_bis = AverageMeter('Acc@1', ':6.2f')\n",
        "\n",
        "    running_loss = 0.0\n",
        "    training_bar = tqdm(train_dataloader, total=len(train_dataloader), desc=\"Training\", position=0, leave=True, token=TOKEN, chat_id=CHAT_ID)\n",
        "\n",
        "    for image, mask in training_bar:\n",
        "\n",
        "        image = image.to(device)\n",
        "        mask = mask.to(device)\n",
        "\n",
        "        # forward + backward + optimize\n",
        "        outputs = model(image)\n",
        "\n",
        "        #CE Loss:\n",
        "        loss = criterion(outputs, mask.squeeze(1))\n",
        "\n",
        "        #Dice Loss\n",
        "        #loss = criterion(outputs, mask)\n",
        "\n",
        "        # zero the parameter gradients\n",
        "        optimizer.zero_grad()\n",
        "\n",
        "        loss.backward()\n",
        "        optimizer.step()\n",
        "\n",
        "        losses.update(loss.item(), image.size(0))\n",
        "\n",
        "        \"\"\"\n",
        "        #Acc\n",
        "        intersection = np.logical_and(mask.cpu().detach().numpy(), torch.ceil(outputs).cpu().detach().numpy())\n",
        "        union = np.logical_or(mask.cpu().detach().numpy(), torch.ceil(outputs).cpu().detach().numpy())\n",
        "        iou_score = np.sum(intersection) / np.sum(union)\n",
        "        top1.update(iou_score.item(), image.size(0))\n",
        "        \"\"\"\n",
        "        #Acc 2\n",
        "        predictions = torch.nn.functional.softmax(outputs, dim=1)\n",
        "        pred_labels = torch.argmax(predictions, dim=1) \n",
        "\n",
        "        iou_score_bis = iou_metric.forward(mask, pred_labels)\n",
        "        top1_bis.update(iou_score_bis.item(), image.size(0))\n",
        "\n",
        "        training_bar.set_postfix({\"loss\": f\"{loss:.3f}\", \"acc\": f\"{iou_score_bis:.3f}\"})\n",
        "\n",
        "    epoch_bar.set_postfix({f\"loss\": f\"{losses.avg:.6f}\"})\n",
        "    print(f\"\\nTraining, Loss: {losses.avg:.3f}\")\n",
        "    print(f\"Training, Acc: {top1.avg:.3f}\")\n",
        "    print(\"\\n\")\n",
        "\n",
        "    loss_training_list.append(losses.avg)\n",
        "    acc_training_list.append(top1.avg)\n",
        "    summary_writer.add_scalar(\"Training/Loss\", losses.avg, epoch)\n",
        "    summary_writer.add_scalar(\"Training/Acurracy\", top1_bis.avg, epoch)\n",
        "\n",
        "    scheduler.step()\n",
        "\n",
        "    # Validation\n",
        "    losses.reset()\n",
        "    top1.reset()\n",
        "    top1_bis.reset()\n",
        "\n",
        "    model.eval()\n",
        "    valid_pbar = tqdm(valid_dataloader, total=len(valid_dataloader), desc=\"Validation\", position=0, leave=True, token=TOKEN, chat_id=CHAT_ID)\n",
        "    with torch.no_grad():\n",
        "        for image, mask in valid_pbar:\n",
        "\n",
        "            image = image.to(device)\n",
        "            mask = mask.to(device)\n",
        "\n",
        "            outputs = model(image)\n",
        "\n",
        "            #CE Loss:\n",
        "            loss = criterion(outputs, mask.squeeze(1))\n",
        "\n",
        "            #Dice Loss\n",
        "            #loss = criterion(outputs, mask)\n",
        "\n",
        "            losses.update(loss.item(), image.size(0))\n",
        "            \"\"\"\n",
        "            #Acc\n",
        "            intersection = np.logical_and(mask.cpu().detach().numpy(), torch.ceil(outputs).cpu().detach().numpy())\n",
        "            union = np.logical_or(mask.cpu().detach().numpy(), torch.ceil(outputs).cpu().detach().numpy())\n",
        "            iou_score = np.sum(intersection) / np.sum(union)\n",
        "            top1.update(iou_score.item(), image.size(0))\n",
        "            \"\"\"\n",
        "            #Acc 2\n",
        "            predictions = torch.nn.functional.softmax(outputs, dim=1)\n",
        "            pred_labels = torch.argmax(predictions, dim=1) \n",
        "\n",
        "            iou_score_bis = iou_metric.forward(mask, pred_labels)\n",
        "\n",
        "            top1_bis.update(iou_score_bis.item(), image.size(0))\n",
        "\n",
        "            valid_pbar.set_postfix({f\"loss\": f\"{loss:.3f}\", \"acc\": f\"{iou_score_bis:.3f}\"})\n",
        "\n",
        "        print(f\"\\nValidation, Loss: {losses.avg:.3f}\")\n",
        "        print(f\"Validation, Acc: {top1.avg:.3f}\")\n",
        "        loss_validation_list.append(losses.avg)\n",
        "        acc_validation_list.append(top1.avg)\n",
        "        summary_writer.add_scalar(\"Validation/Loss\", losses.avg, epoch)\n",
        "        summary_writer.add_scalar(\"Validation/Acurracy\", top1_bis.avg, epoch)\n",
        "\n",
        "        if best_loss > losses.avg:\n",
        "          name_save_model = \"duo-AttUnet_1024px_3classes\"\n",
        "          path_model = MODEL_TO_SAVE_PATH + name_save_model\n",
        "          torch.save(model.state_dict(), path_model)\n",
        "          print('Model saved!')\n",
        "          best_loss = losses.avg\n",
        "\n",
        "    print(\"\\n\")\n",
        "print('Finished Training')"
      ]
    },
    {
      "cell_type": "markdown",
      "source": [
        "##Display real and generated masks"
      ],
      "metadata": {
        "id": "VR0_NdtCAFkF"
      }
    },
    {
      "cell_type": "code",
      "execution_count": null,
      "metadata": {
        "colab": {
          "base_uri": "https://localhost:8080/",
          "height": 1000
        },
        "id": "OLR1aqcBVXw0",
        "outputId": "3132e782-ea59-45d3-c04e-1e8d2ff67069"
      },
      "outputs": [
        {
          "data": {
            "image/png": "[encoded data removed]",
            "text/plain": [
              "<Figure size 1440x1440 with 4 Axes>"
            ]
          },
          "metadata": {},
          "output_type": "display_data"
        }
      ],
      "source": [
        "#Display real and generated mask\n",
        "model.eval()\n",
        "with torch.no_grad():\n",
        "  image, mask = next(iter(valid_dataloader))\n",
        "\n",
        "  image, mask = image.to(device), mask.to(device)\n",
        "  predictions = model(image) \n",
        "  \n",
        "  predictions = torch.nn.functional.softmax(predictions, dim=1)\n",
        "  pred_labels = torch.argmax(predictions, dim=1) \n",
        "  pred_labels = pred_labels.float()\n",
        "\n",
        "  # Remapping the labels\n",
        "  #pred_labels = pred_labels.to('cpu')\n",
        "  #pred_labels.apply_(lambda x: t2l[image].id)\n",
        "  pred_labels = pred_labels.to(device)   \n",
        "\n",
        "  # Resizing predicted images too original size\n",
        "  #pred_labels = transforms.Resize((1024, 1024))(pred_labels)  \n",
        "\n",
        "  ##################################################################################\n",
        "  image_train, mask_train = next(iter(train_dataloader))\n",
        "\n",
        "  image_train, mask_train = image_train.to(device), mask_train.to(device)\n",
        "  predictions_train = model(image_train) \n",
        "  \n",
        "  predictions_train = torch.nn.functional.softmax(predictions_train, dim=1)\n",
        "  pred_labels_train = torch.argmax(predictions_train, dim=1) \n",
        "  pred_labels_train = pred_labels_train.float()\n",
        "\n",
        "  pred_labels_train = pred_labels_train.to(device)           \n",
        "\n",
        "#########\n",
        "plt.rcParams[\"figure.figsize\"] = (20,20)\n",
        "f, axarr = plt.subplots(2,2)\n",
        "\n",
        "#Real mask\n",
        "axarr[0, 0].set_title('Validation: Real Mask',)\n",
        "axarr[0, 0].imshow(mask[0].detach().cpu().squeeze())\n",
        "\n",
        "#Predicted mask\n",
        "axarr[0, 1].set_title('Validation: Predicted Mask',)\n",
        "axarr[0, 1].imshow(pred_labels[0].detach().cpu().squeeze())\n",
        "\n",
        "################################\n",
        "#Real mask TRAIN\n",
        "axarr[1, 0].set_title('Training: Real Mask',)\n",
        "axarr[1, 0].imshow(mask_train[0].detach().cpu().squeeze())\n",
        "\n",
        "#Predicted mask TRAIN\n",
        "axarr[1, 1].set_title('Training: Predicted Mask',)\n",
        "axarr[1, 1].imshow(pred_labels_train[0].detach().cpu().squeeze())\n",
        "\n",
        "\n",
        "plt.show()\n",
        "\n"
      ]
    },
    {
      "cell_type": "markdown",
      "source": [
        "##Code to fix CUDA ERRORS"
      ],
      "metadata": {
        "id": "lvDinKBcAQW3"
      }
    },
    {
      "cell_type": "code",
      "execution_count": null,
      "metadata": {
        "id": "W0J8pZ-JNZZ6"
      },
      "outputs": [],
      "source": [
        "import gc\n",
        "\n",
        "gc.collect()\n",
        "\n",
        "\n",
        "torch.cuda.empty_cache()"
      ]
    },
    {
      "cell_type": "code",
      "execution_count": null,
      "metadata": {
        "id": "xcYeZ3nez-QR"
      },
      "outputs": [],
      "source": [
        ""
      ]
    }
  ],
  "metadata": {
    "accelerator": "GPU",
    "colab": {
      "background_execution": "on",
      "collapsed_sections": [],
      "machine_shape": "hm",
      "name": "Dual-AttUnet-Pipeline.ipynb",
      "provenance": [],
      "toc_visible": true
    },
    "kernelspec": {
      "display_name": "Python 3",
      "name": "python3"
    },
    "language_info": {
      "name": "python"
    }
  },
  "nbformat": 4,
  "nbformat_minor": 0
}